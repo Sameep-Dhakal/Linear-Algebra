{
  "cells": [
    {
      "cell_type": "markdown",
      "metadata": {
        "id": "XFOP3b06SNqW"
      },
      "source": [
        "1. Functions to create Arrays"
      ]
    },
    {
      "cell_type": "code",
      "execution_count": 1,
      "metadata": {
        "id": "pRL6pJ4gSeuO"
      },
      "outputs": [],
      "source": [
        "#importing numpy\n",
        "import numpy as np"
      ]
    },
    {
      "cell_type": "code",
      "execution_count": 2,
      "metadata": {
        "colab": {
          "base_uri": "https://localhost:8080/"
        },
        "id": "W69tbPSzSjjd",
        "outputId": "2d7d01bd-82f9-46e8-bd44-148565737631"
      },
      "outputs": [
        {
          "name": "stdout",
          "output_type": "stream",
          "text": [
            "[1. 2. 3. 4.]\n",
            "(4,)\n",
            "float64\n"
          ]
        }
      ],
      "source": [
        "from numpy import array\n",
        "l=[1.0,2.0,3.0,4.0]\n",
        "a= array(l)\n",
        "print (a)\n",
        "print (a.shape)\n",
        "print(a.dtype)\n",
        "#example for creating array with array() function"
      ]
    },
    {
      "cell_type": "markdown",
      "metadata": {
        "id": "N1Nq_pE4S79F"
      },
      "source": [
        "1.1empty"
      ]
    },
    {
      "cell_type": "code",
      "execution_count": 3,
      "metadata": {
        "colab": {
          "base_uri": "https://localhost:8080/"
        },
        "id": "9YQ-KHVxTTVz",
        "outputId": "2c644283-94dd-44a4-ac26-fb3e06fce563"
      },
      "outputs": [
        {
          "name": "stdout",
          "output_type": "stream",
          "text": [
            "[[4.65515658e-310 0.00000000e+000 2.41907520e-312 2.14321575e-312]\n",
            " [2.46151512e-312 2.31297541e-312 2.35541533e-312 2.05833592e-312]\n",
            " [2.22809558e-312 2.56761491e-312 2.48273508e-312 2.05833592e-312]\n",
            " [2.05833592e-312 2.29175545e-312 2.07955588e-312 2.14321575e-312]]\n"
          ]
        }
      ],
      "source": [
        "#create empty array\n",
        "from numpy import empty\n",
        "a=empty([4,4])\n",
        "print(a) #it prints empty array contents may vary in ecan code\n",
        "\n"
      ]
    },
    {
      "cell_type": "markdown",
      "metadata": {
        "id": "njiOP5fITfyu"
      },
      "source": [
        "1.2 Zeros"
      ]
    },
    {
      "cell_type": "code",
      "execution_count": 4,
      "metadata": {
        "colab": {
          "base_uri": "https://localhost:8080/"
        },
        "id": "OO2bIGaNT5N-",
        "outputId": "2c5e1e55-8fff-4aca-a1aa-2b5a54bee7a8"
      },
      "outputs": [
        {
          "name": "stdout",
          "output_type": "stream",
          "text": [
            "[[0. 0. 0.]\n",
            " [0. 0. 0.]\n",
            " [0. 0. 0.]\n",
            " [0. 0. 0.]\n",
            " [0. 0. 0.]]\n"
          ]
        }
      ],
      "source": [
        "#create zero array\n",
        "from numpy import zeros\n",
        "a = zeros([5,3]) #five row three column array zero\n",
        "print(a)"
      ]
    },
    {
      "cell_type": "markdown",
      "metadata": {
        "id": "RkvWIFIrUC8B"
      },
      "source": [
        "1.3 ones"
      ]
    },
    {
      "cell_type": "code",
      "execution_count": 5,
      "metadata": {
        "colab": {
          "base_uri": "https://localhost:8080/"
        },
        "id": "KDQmHEEDUHN8",
        "outputId": "89932abb-c9b4-453c-eead-b6d12fcf74e2"
      },
      "outputs": [
        {
          "name": "stdout",
          "output_type": "stream",
          "text": [
            "[1. 1. 1. 1. 1.]\n"
          ]
        }
      ],
      "source": [
        "# create one array\n",
        "from numpy import ones\n",
        "a = ones([5]) #1 row five column array \n",
        "print(a)"
      ]
    },
    {
      "cell_type": "markdown",
      "metadata": {
        "id": "c0izih52Ua4D"
      },
      "source": [
        "2 combining array"
      ]
    },
    {
      "cell_type": "markdown",
      "metadata": {
        "id": "Oh27vrZZUgdJ"
      },
      "source": [
        "2.1 vertical stack"
      ]
    },
    {
      "cell_type": "code",
      "execution_count": 6,
      "metadata": {
        "colab": {
          "base_uri": "https://localhost:8080/"
        },
        "id": "8ayr7ohAUkpa",
        "outputId": "99e887bb-9beb-4bbd-9b97-51ca6211ae8d"
      },
      "outputs": [
        {
          "name": "stdout",
          "output_type": "stream",
          "text": [
            "[3 4 5 6]\n",
            "[4 5 6 7]\n",
            "[[3 4 5 6]\n",
            " [4 5 6 7]]\n",
            "(2, 4)\n"
          ]
        }
      ],
      "source": [
        "# create array with vstack\n",
        "from numpy import array\n",
        "from numpy import vstack\n",
        "# create first array\n",
        "a1 = array([3,4,5,6])\n",
        "print(a1)\n",
        "# create second array\n",
        "a2 = array([4,5,6,7])\n",
        "print(a2)\n",
        "# vertical stack\n",
        "a3 = vstack((a1, a2)) #takes only same dimension array \n",
        "print(a3)\n",
        "print(a3.shape)"
      ]
    },
    {
      "cell_type": "markdown",
      "metadata": {
        "id": "IKwU0N39Us8f"
      },
      "source": [
        "2.2 horizontal stack"
      ]
    },
    {
      "cell_type": "code",
      "execution_count": 7,
      "metadata": {
        "colab": {
          "base_uri": "https://localhost:8080/"
        },
        "id": "9AqVaaxYVAhb",
        "outputId": "f84c9aff-7c35-4c4c-bbfb-baa92ef8db01"
      },
      "outputs": [
        {
          "name": "stdout",
          "output_type": "stream",
          "text": [
            "[list([3, 8, 9, 1]) list([1, 2, 3])]\n",
            "[list([7, 5, 6, 1]) list([1, 5, 6])]\n",
            "[list([3, 8, 9, 1]) list([1, 2, 3]) list([7, 5, 6, 1]) list([1, 5, 6])]\n",
            "(4,)\n"
          ]
        },
        {
          "name": "stderr",
          "output_type": "stream",
          "text": [
            "/tmp/ipykernel_6887/3669229083.py:5: VisibleDeprecationWarning: Creating an ndarray from ragged nested sequences (which is a list-or-tuple of lists-or-tuples-or ndarrays with different lengths or shapes) is deprecated. If you meant to do this, you must specify 'dtype=object' when creating the ndarray.\n",
            "  a1 = array([[3,8,9,1],[1,2,3]]) #cant directly hstack two different shapes\n",
            "/tmp/ipykernel_6887/3669229083.py:8: VisibleDeprecationWarning: Creating an ndarray from ragged nested sequences (which is a list-or-tuple of lists-or-tuples-or ndarrays with different lengths or shapes) is deprecated. If you meant to do this, you must specify 'dtype=object' when creating the ndarray.\n",
            "  a2 = array([[7,5,6,1],[1,5,6]]) # this is depreciated\n"
          ]
        }
      ],
      "source": [
        "# create array with hstack\n",
        "from numpy import array\n",
        "from numpy import hstack\n",
        "# create first array\n",
        "a1 = array([[3,8,9,1],[1,2,3]]) #cant directly hstack two different shapes\n",
        "print(a1)\n",
        "# create second array\n",
        "a2 = array([[7,5,6,1],[1,5,6]]) # this is depreciated\n",
        "print(a2)\n",
        "# create horizontal stack\n",
        "a3 = hstack((a1, a2)) #this adds columns with each other\n",
        "print(a3)\n",
        "print(a3.shape)"
      ]
    },
    {
      "cell_type": "code",
      "execution_count": 8,
      "metadata": {
        "colab": {
          "base_uri": "https://localhost:8080/"
        },
        "id": "cPM1xY63VF6B",
        "outputId": "66b8dc0f-9289-478e-f8ca-d7ac77b8a82b"
      },
      "outputs": [
        {
          "name": "stdout",
          "output_type": "stream",
          "text": [
            "[1 2 3]\n",
            "[4 5 6]\n",
            "[1 2 3 4 5 6]\n",
            "(6,)\n"
          ]
        }
      ],
      "source": [
        "# create array with hstack\n",
        "from numpy import array\n",
        "from numpy import hstack\n",
        "# create first array\n",
        "a1 = array([1,2,3])\n",
        "print(a1)\n",
        "# create second array\n",
        "a2 = array([4,5,6])\n",
        "print(a2)\n",
        "# create horizontal stack\n",
        "a3 = hstack((a1, a2)) # this function adds column\n",
        "print(a3)\n",
        "print(a3.shape)"
      ]
    },
    {
      "cell_type": "markdown",
      "metadata": {
        "id": "EgOBx2DMV9FV"
      },
      "source": [
        "#index slice and reshape NUMPY array\n",
        "\n"
      ]
    },
    {
      "cell_type": "markdown",
      "metadata": {
        "id": "MgZZkfDxWl7R"
      },
      "source": [
        "##one dimensional list to array"
      ]
    },
    {
      "cell_type": "code",
      "execution_count": 9,
      "metadata": {
        "colab": {
          "base_uri": "https://localhost:8080/"
        },
        "id": "DGMVptr8W6Eq",
        "outputId": "bc255e54-9ef2-4430-db24-90bcb6c9d433"
      },
      "outputs": [
        {
          "name": "stdout",
          "output_type": "stream",
          "text": [
            "[11 22 33 44 55 66 77]\n",
            "<class 'numpy.ndarray'>\n"
          ]
        }
      ],
      "source": [
        "# create one-dimensional array\n",
        "from numpy import array\n",
        "# list of data\n",
        "data = [11, 22, 33, 44, 55, 66, 77]\n",
        "# array of data\n",
        "data = array(data)\n",
        "print(data)\n",
        "print(type(data))"
      ]
    },
    {
      "cell_type": "markdown",
      "metadata": {
        "id": "kGiilGNXXACe"
      },
      "source": [
        "## Two-Dimensional List of Lists to Array"
      ]
    },
    {
      "cell_type": "code",
      "execution_count": 10,
      "metadata": {
        "colab": {
          "base_uri": "https://localhost:8080/"
        },
        "id": "cpmtNeVrXGZl",
        "outputId": "c9564d89-c28a-404c-b9a0-15b758ee2e6f"
      },
      "outputs": [
        {
          "name": "stdout",
          "output_type": "stream",
          "text": [
            "[[11 22]\n",
            " [33 44]\n",
            " [55 66]\n",
            " [77 88]]\n",
            "<class 'numpy.ndarray'>\n"
          ]
        }
      ],
      "source": [
        "# create two-dimensional array\n",
        "from numpy import array\n",
        "# list of data\n",
        "data = [[11, 22],\n",
        "[33, 44],\n",
        "[55, 66],\n",
        "[77,88]]\n",
        "# array of data\n",
        "data = array(data)\n",
        "print(data)\n",
        "print(type(data))"
      ]
    },
    {
      "cell_type": "markdown",
      "metadata": {
        "id": "xOVH4Us0XPlY"
      },
      "source": [
        "## array indexing \n",
        "##one dimensional indexing"
      ]
    },
    {
      "cell_type": "code",
      "execution_count": 11,
      "metadata": {
        "colab": {
          "base_uri": "https://localhost:8080/"
        },
        "id": "SofFFw1gXjMB",
        "outputId": "2ffde6c4-6cea-41d7-85b9-223f4197ce50"
      },
      "outputs": [
        {
          "name": "stdout",
          "output_type": "stream",
          "text": [
            "11\n",
            "66\n"
          ]
        }
      ],
      "source": [
        "# index a one-dimensional array\n",
        "from numpy import array\n",
        "# define array\n",
        "data = array([11, 22, 33, 44, 55, 66, 77])\n",
        "# index data \n",
        "print(data[0])\n",
        "print(data[5])"
      ]
    },
    {
      "cell_type": "code",
      "execution_count": 12,
      "metadata": {
        "colab": {
          "base_uri": "https://localhost:8080/",
          "height": 207
        },
        "id": "mv08B0SkXtjW",
        "outputId": "5e5b2a47-a263-437d-c3fd-fca1f1a7b79c"
      },
      "outputs": [],
      "source": [
        "# index array out of bounds\n",
        "from numpy import array\n",
        "# define array\n",
        "data = array([11, 22, 33, 44, 55, 66])\n",
        "# index data\n",
        "# print(data[7]) # running this give index error. can try it by  uncommenting the code"
      ]
    },
    {
      "cell_type": "code",
      "execution_count": 13,
      "metadata": {
        "colab": {
          "base_uri": "https://localhost:8080/"
        },
        "id": "zf1Q9mXYXzu9",
        "outputId": "42f22778-c181-4799-e4fe-da479f034619"
      },
      "outputs": [
        {
          "name": "stdout",
          "output_type": "stream",
          "text": [
            "55\n",
            "22\n"
          ]
        }
      ],
      "source": [
        "# negative array indexing\n",
        "from numpy import array\n",
        "# define array\n",
        "data = array([11, 22, 33, 44, 55,66])\n",
        "# index data\n",
        "print(data[-2])\n",
        "print(data[-5])"
      ]
    },
    {
      "cell_type": "markdown",
      "metadata": {
        "id": "ywOdynnjYGAu"
      },
      "source": [
        "##two dimensional indexing"
      ]
    },
    {
      "cell_type": "code",
      "execution_count": 14,
      "metadata": {
        "colab": {
          "base_uri": "https://localhost:8080/"
        },
        "id": "q0qIPGB5YKZH",
        "outputId": "0c903009-0789-4dfd-9576-b7f6cd6ed766"
      },
      "outputs": [
        {
          "name": "stdout",
          "output_type": "stream",
          "text": [
            "11\n",
            "[11 22] [0]\n"
          ]
        }
      ],
      "source": [
        "# index two-dimensional array\n",
        "from numpy import array\n",
        "# doing data[0,0] and data [0][0] are two different things\n",
        "data = array([\n",
        "[11, 22],\n",
        "[33, 44],\n",
        "[55, 66]])\n",
        "\n",
        "print(data[0,0])\n",
        "print(data[0],[0]) #it gives two different list 1st row and seperate 0 column"
      ]
    },
    {
      "cell_type": "code",
      "execution_count": 15,
      "metadata": {
        "colab": {
          "base_uri": "https://localhost:8080/"
        },
        "id": "3UQvEBG1Y7g8",
        "outputId": "7097d4f0-506e-446d-b1b3-b46fdd9bc756"
      },
      "outputs": [
        {
          "name": "stdout",
          "output_type": "stream",
          "text": [
            "[11 22]\n"
          ]
        }
      ],
      "source": [
        "# index row of two-dimensional array\n",
        "from numpy import array\n",
        "# define array\n",
        "data = array([\n",
        "[11, 22],\n",
        "[33, 44],\n",
        "[55, 66]])\n",
        "# index data\n",
        "print(data[0,])"
      ]
    },
    {
      "cell_type": "markdown",
      "metadata": {
        "id": "bDmgonxhZPkf"
      },
      "source": [
        "##Array slicing\n",
        "## one dimensional slicing"
      ]
    },
    {
      "cell_type": "code",
      "execution_count": 16,
      "metadata": {
        "colab": {
          "base_uri": "https://localhost:8080/"
        },
        "id": "NZmX9_x5ZhMQ",
        "outputId": "745f0147-5cc5-4991-b4b7-5b94f94d56ee"
      },
      "outputs": [
        {
          "name": "stdout",
          "output_type": "stream",
          "text": [
            "[11 22 33 44 55]\n"
          ]
        }
      ],
      "source": [
        "# slice a one-dimensional array\n",
        "from numpy import array\n",
        "# define array\n",
        "data = array([11, 22, 33, 44, 55])\n",
        "print(data[:])"
      ]
    },
    {
      "cell_type": "code",
      "execution_count": 17,
      "metadata": {
        "colab": {
          "base_uri": "https://localhost:8080/"
        },
        "id": "p2wUlBtEZnbH",
        "outputId": "3f3a81c4-8958-45ca-b482-6210ca45f414"
      },
      "outputs": [
        {
          "name": "stdout",
          "output_type": "stream",
          "text": [
            "[11]\n"
          ]
        }
      ],
      "source": [
        "# slice a subset of a one-dimensional array\n",
        "from numpy import array\n",
        "# define array\n",
        "data = array([11, 22, 33, 44, 55])\n",
        "print(data[0:1])"
      ]
    },
    {
      "cell_type": "code",
      "execution_count": 18,
      "metadata": {
        "colab": {
          "base_uri": "https://localhost:8080/"
        },
        "id": "WQ7ZFhlAZqfs",
        "outputId": "8f543016-9e29-41b4-a81f-ad7d6b6e94f6"
      },
      "outputs": [
        {
          "name": "stdout",
          "output_type": "stream",
          "text": [
            "[44 55]\n"
          ]
        }
      ],
      "source": [
        "# negative slicing of a one-dimensional array\n",
        "from numpy import array\n",
        "# define array\n",
        "data = array([11, 22, 33, 44, 55])\n",
        "print(data[-2:])"
      ]
    },
    {
      "cell_type": "markdown",
      "metadata": {
        "id": "XzMTNQlBZu49"
      },
      "source": [
        "##Two-Dimensional Slicing"
      ]
    },
    {
      "cell_type": "code",
      "execution_count": 19,
      "metadata": {
        "colab": {
          "base_uri": "https://localhost:8080/"
        },
        "id": "_pbUgnH3Z02g",
        "outputId": "c8b6b32b-b2d6-464b-ec2e-2a757bd42e84"
      },
      "outputs": [
        {
          "name": "stdout",
          "output_type": "stream",
          "text": [
            "[[11 22]\n",
            " [44 55]\n",
            " [77 88]]\n",
            "[33 66 99]\n"
          ]
        }
      ],
      "source": [
        "# split input and output data\n",
        "from numpy import array\n",
        "# define array\n",
        "data = array([\n",
        "[11, 22, 33],\n",
        "[44, 55, 66],\n",
        "[77, 88, 99]])\n",
        "# separate data\n",
        "X, y = data[:, :-1], data[:, -1]\n",
        "print(X)\n",
        "print(y)"
      ]
    },
    {
      "cell_type": "markdown",
      "metadata": {},
      "source": [
        "## train test split"
      ]
    },
    {
      "cell_type": "markdown",
      "metadata": {},
      "source": []
    },
    {
      "cell_type": "code",
      "execution_count": 20,
      "metadata": {},
      "outputs": [
        {
          "name": "stdout",
          "output_type": "stream",
          "text": [
            "[[11 22 33]\n",
            " [44 55 66]]\n",
            "[[77 88 99]]\n"
          ]
        }
      ],
      "source": [
        "# split train and test data\n",
        "from numpy import array\n",
        "# define array\n",
        "data = array([\n",
        "[11, 22, 33],\n",
        "[44, 55, 66],\n",
        "[77, 88, 99]])\n",
        "# separate data\n",
        "split = 2\n",
        "train,test = data[:split,:],data[split:,:]\n",
        "print(train)\n",
        "print(test)"
      ]
    },
    {
      "cell_type": "markdown",
      "metadata": {},
      "source": [
        "# array reshaping "
      ]
    },
    {
      "cell_type": "markdown",
      "metadata": {},
      "source": [
        "## data shape"
      ]
    },
    {
      "cell_type": "code",
      "execution_count": 21,
      "metadata": {},
      "outputs": [
        {
          "name": "stdout",
          "output_type": "stream",
          "text": [
            "(5,)\n"
          ]
        }
      ],
      "source": [
        "# shape of one-dimensional array\n",
        "from numpy import array\n",
        "# define array\n",
        "data = array([11, 22, 33, 44, 55])\n",
        "print(data.shape)"
      ]
    },
    {
      "cell_type": "code",
      "execution_count": 22,
      "metadata": {},
      "outputs": [
        {
          "name": "stdout",
          "output_type": "stream",
          "text": [
            "(3, 2)\n"
          ]
        }
      ],
      "source": [
        "# shape of a two-dimensional array\n",
        "from numpy import array\n",
        "# list of data\n",
        "data = [[11, 22],\n",
        "[33, 44],\n",
        "[55, 66]]\n",
        "# array of data\n",
        "data = array(data)\n",
        "print(data.shape)"
      ]
    },
    {
      "cell_type": "code",
      "execution_count": 24,
      "metadata": {},
      "outputs": [
        {
          "name": "stdout",
          "output_type": "stream",
          "text": [
            "Rows: 3\n",
            "Cols: 2\n"
          ]
        }
      ],
      "source": [
        "# row and column shape of two-dimensional array\n",
        "from numpy import array\n",
        "# list of data\n",
        "data = [[11, 22],\n",
        "[33, 44],\n",
        "[55, 66]]\n",
        "# array of data\n",
        "data = array(data)\n",
        "print('Rows: %d' % data.shape[0])\n",
        "print('Cols: %d' % data.shape[1])"
      ]
    },
    {
      "cell_type": "markdown",
      "metadata": {},
      "source": [
        "## reshape 1 D array to 2d arry"
      ]
    },
    {
      "cell_type": "code",
      "execution_count": 2,
      "metadata": {},
      "outputs": [
        {
          "name": "stdout",
          "output_type": "stream",
          "text": [
            "(5,)\n",
            "(5, 1)\n"
          ]
        }
      ],
      "source": [
        "# reshape 1D array to 2D\n",
        "from numpy import array\n",
        "# define array\n",
        "data = array([10,12,14,15,17])\n",
        "print(data.shape)\n",
        "# reshape\n",
        "data = data.reshape((data.shape[0], 1))\n",
        "print(data.shape)"
      ]
    },
    {
      "cell_type": "markdown",
      "metadata": {},
      "source": [
        "## reshape 2d t 3d array"
      ]
    },
    {
      "cell_type": "code",
      "execution_count": 7,
      "metadata": {},
      "outputs": [
        {
          "name": "stdout",
          "output_type": "stream",
          "text": [
            "(3, 2)\n",
            "3 1\n",
            "2 1\n",
            "(3, 2, 1)\n"
          ]
        }
      ],
      "source": [
        "# reshape 2D array to 3D\n",
        "from numpy import array\n",
        "# list of data\n",
        "data = [[11, 22],\n",
        "[33, 44],\n",
        "[55, 66]]\n",
        "# array of data\n",
        "data = array(data)\n",
        "print(data.shape)\n",
        "#preview the shaoe of array\n",
        "print(data.shape[0])\n",
        "print(data.shape[1])\n",
        "# reshape\n",
        "data = data.reshape((data.shape[0], data.shape[1], 1))\n",
        "print(data.shape)"
      ]
    },
    {
      "cell_type": "markdown",
      "metadata": {},
      "source": [
        "# Numpy array Broadcasting"
      ]
    },
    {
      "cell_type": "markdown",
      "metadata": {},
      "source": [
        "### what we going to learn?\n",
        "##### problem of arithmetic with arrays with different sizes\n",
        "##### the solution of braodcastng and common examples in one and two    dimensions\n",
        "##### the rule of array braodcasting when array fails"
      ]
    },
    {
      "cell_type": "markdown",
      "metadata": {},
      "source": [
        "## limitation with array arithmetic"
      ]
    },
    {
      "cell_type": "code",
      "execution_count": 11,
      "metadata": {},
      "outputs": [
        {
          "name": "stdout",
          "output_type": "stream",
          "text": [
            "[1 2 3]\n",
            "2\n",
            "[3 4 5]\n",
            "[2 4 5]\n"
          ]
        }
      ],
      "source": [
        "# broadcast scalar to one-dimensional array\n",
        "from numpy import array\n",
        "# define array\n",
        "a = array([1, 2, 3])\n",
        "print(a)\n",
        "# define scalar\n",
        "b = 2\n",
        "c= array([1,2,2])\n",
        "print(b)\n",
        "# broadcast\n",
        "d = a + b\n",
        "e = a + c  #can only bordcast arrya of same shape.\n",
        "print(d)\n",
        "print(e)"
      ]
    },
    {
      "cell_type": "markdown",
      "metadata": {},
      "source": [
        "## scalar and two dimensional array"
      ]
    },
    {
      "cell_type": "code",
      "execution_count": 1,
      "metadata": {},
      "outputs": [
        {
          "name": "stdout",
          "output_type": "stream",
          "text": [
            "[[1 2 3]\n",
            " [1 2 3]]\n",
            "2\n",
            "[[3 4 5]\n",
            " [3 4 5]]\n"
          ]
        }
      ],
      "source": [
        "# broadcast scalar to two-dimensional array\n",
        "from numpy import array\n",
        "# define array\n",
        "A = array([\n",
        "[1, 2, 3],\n",
        "[1, 2, 3]])\n",
        "print(A)\n",
        "# define scalar\n",
        "b = 2\n",
        "print(b)\n",
        "# broadcast\n",
        "C = A + b\n",
        "print(C)"
      ]
    },
    {
      "cell_type": "markdown",
      "metadata": {},
      "source": [
        "## one dimensional and two dimensional arrays"
      ]
    },
    {
      "cell_type": "code",
      "execution_count": 1,
      "metadata": {},
      "outputs": [
        {
          "name": "stdout",
          "output_type": "stream",
          "text": [
            "[[1 2 3]\n",
            " [1 2 3]]\n",
            "[1 2 3]\n",
            "[[2 4 6]\n",
            " [2 4 6]]\n"
          ]
        }
      ],
      "source": [
        "# broadcast one-dimensional array to two-dimensional array\n",
        "from numpy import array\n",
        "# define two-dimensional array\n",
        "A = array([\n",
        "[1, 2, 3],\n",
        "[1, 2, 3]])\n",
        "print(A)\n",
        "# define one-dimensional array\n",
        "b = array([1, 2, 3])\n",
        "print(b)\n",
        "# broadcast\n",
        "C = A + b\n",
        "print(C)"
      ]
    },
    {
      "cell_type": "markdown",
      "metadata": {},
      "source": [
        "## limitation of broadcasting"
      ]
    },
    {
      "cell_type": "code",
      "execution_count": 2,
      "metadata": {},
      "outputs": [
        {
          "name": "stdout",
          "output_type": "stream",
          "text": [
            "(2, 3)\n",
            "(2,)\n"
          ]
        },
        {
          "ename": "ValueError",
          "evalue": "operands could not be broadcast together with shapes (2,3) (2,) ",
          "output_type": "error",
          "traceback": [
            "\u001b[0;31m---------------------------------------------------------------------------\u001b[0m",
            "\u001b[0;31mValueError\u001b[0m                                Traceback (most recent call last)",
            "Cell \u001b[0;32mIn[2], line 12\u001b[0m\n\u001b[1;32m     10\u001b[0m \u001b[39mprint\u001b[39m(b\u001b[39m.\u001b[39mshape)\n\u001b[1;32m     11\u001b[0m \u001b[39m# attempt broadcast\u001b[39;00m\n\u001b[0;32m---> 12\u001b[0m C \u001b[39m=\u001b[39m A \u001b[39m+\u001b[39;49m b\n\u001b[1;32m     13\u001b[0m \u001b[39mprint\u001b[39m(C)\n",
            "\u001b[0;31mValueError\u001b[0m: operands could not be broadcast together with shapes (2,3) (2,) "
          ]
        }
      ],
      "source": [
        "# # broadcasting error\n",
        "# from numpy import array\n",
        "# # define two-dimensional array\n",
        "# A = array([\n",
        "# [1, 2, 3],\n",
        "# [1, 2, 3]])\n",
        "# print(A.shape)\n",
        "# # define one-dimensional array\n",
        "# b = array([1, 2])\n",
        "# print(b.shape)\n",
        "# # attempt broadcast\n",
        "# C = A + b\n",
        "# print(C)\n",
        "\n",
        "\n",
        "# this code give the error cause it cant be broadcasted"
      ]
    },
    {
      "cell_type": "markdown",
      "metadata": {},
      "source": [
        "\n",
        "## Extensons"
      ]
    },
    {
      "cell_type": "code",
      "execution_count": 10,
      "metadata": {},
      "outputs": [
        {
          "data": {
            "text/plain": [
              "((2, 3), (3,), (1, 3, 3), (2, 1, 3))"
            ]
          },
          "execution_count": 10,
          "metadata": {},
          "output_type": "execute_result"
        }
      ],
      "source": [
        "# arryas making on own\n",
        "import numpy as np\n",
        "\n",
        "a= np.array([[1,2,3],[5,6,7]]);\n",
        "b= np.array([1,2,3])\n",
        "c = np.array([[[1,2,3],[3,4,5],[6,7,8]]])\n",
        "d = np.array([\n",
        "    [[1,2,3]],\n",
        "    [[2,3,4]]])\n",
        "\n",
        "\n",
        "a.shape, b.shape, c.shape , d.shape\n",
        "\n",
        "\n",
        "\n",
        "# numpy array explained:\n",
        "# here array of shape if two bracketes then it is tow dimensionssla rr"
      ]
    },
    {
      "cell_type": "code",
      "execution_count": 16,
      "metadata": {},
      "outputs": [
        {
          "data": {
            "text/plain": [
              "(2, 3, 3)"
            ]
          },
          "execution_count": 16,
          "metadata": {},
          "output_type": "execute_result"
        }
      ],
      "source": [
        "a= np.array([\n",
        "    [[1,2,3],[1,2,3],[3,4,5]],[[1,2,3],[1,2,3],[3,4,5]]\n",
        "    ])\n",
        "a.shape"
      ]
    },
    {
      "cell_type": "markdown",
      "metadata": {},
      "source": []
    }
  ],
  "metadata": {
    "colab": {
      "provenance": []
    },
    "kernelspec": {
      "display_name": "Python 3.10.8 ('linear_algebra_venv': venv)",
      "language": "python",
      "name": "python3"
    },
    "language_info": {
      "codemirror_mode": {
        "name": "ipython",
        "version": 3
      },
      "file_extension": ".py",
      "mimetype": "text/x-python",
      "name": "python",
      "nbconvert_exporter": "python",
      "pygments_lexer": "ipython3",
      "version": "3.10.8"
    },
    "vscode": {
      "interpreter": {
        "hash": "811f27054bb9dbcc5cb9a2b275fdd80b09b514089337d2d404504b5991f346df"
      }
    }
  },
  "nbformat": 4,
  "nbformat_minor": 0
}
