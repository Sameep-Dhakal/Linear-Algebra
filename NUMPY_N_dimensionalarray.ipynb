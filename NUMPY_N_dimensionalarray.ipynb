{
  "nbformat": 4,
  "nbformat_minor": 0,
  "metadata": {
    "colab": {
      "provenance": []
    },
    "kernelspec": {
      "name": "python3",
      "display_name": "Python 3"
    },
    "language_info": {
      "name": "python"
    }
  },
  "cells": [
    {
      "cell_type": "markdown",
      "source": [
        "1. Functions to create Arrays"
      ],
      "metadata": {
        "id": "XFOP3b06SNqW"
      }
    },
    {
      "cell_type": "code",
      "source": [
        "#importing numpy\n",
        "import numpy as np"
      ],
      "metadata": {
        "id": "pRL6pJ4gSeuO"
      },
      "execution_count": null,
      "outputs": []
    },
    {
      "cell_type": "code",
      "source": [
        "from numpy import array\n",
        "l=[1.0,2.0,3.0,4.0]\n",
        "a= array(l)\n",
        "print (a)\n",
        "print (a.shape)\n",
        "print(a.dtype)\n",
        "#example for creating array with array() function"
      ],
      "metadata": {
        "colab": {
          "base_uri": "https://localhost:8080/"
        },
        "id": "W69tbPSzSjjd",
        "outputId": "2d7d01bd-82f9-46e8-bd44-148565737631"
      },
      "execution_count": null,
      "outputs": [
        {
          "output_type": "stream",
          "name": "stdout",
          "text": [
            "[1. 2. 3. 4.]\n",
            "(4,)\n",
            "float64\n"
          ]
        }
      ]
    },
    {
      "cell_type": "markdown",
      "source": [
        "1.1empty"
      ],
      "metadata": {
        "id": "N1Nq_pE4S79F"
      }
    },
    {
      "cell_type": "code",
      "source": [
        "#create empty array\n",
        "from numpy import empty\n",
        "a=empty([4,4])\n",
        "print(a) #it prints empty array contents may vary in ecan code\n",
        "\n"
      ],
      "metadata": {
        "colab": {
          "base_uri": "https://localhost:8080/"
        },
        "id": "9YQ-KHVxTTVz",
        "outputId": "2c644283-94dd-44a4-ac26-fb3e06fce563"
      },
      "execution_count": null,
      "outputs": [
        {
          "output_type": "stream",
          "name": "stdout",
          "text": [
            "[[2.83651309e-316 1.77863633e-322 0.00000000e+000]\n",
            " [0.00000000e+000 0.00000000e+000 2.95069422e+179]\n",
            " [5.92937682e-038 7.73685042e-091 2.19219402e-056]]\n"
          ]
        }
      ]
    },
    {
      "cell_type": "markdown",
      "source": [
        "1.2 Zeros"
      ],
      "metadata": {
        "id": "njiOP5fITfyu"
      }
    },
    {
      "cell_type": "code",
      "source": [
        "#create zero array\n",
        "from numpy import zeros\n",
        "a = zeros([5,3]) #five row three column array zero\n",
        "print(a)"
      ],
      "metadata": {
        "colab": {
          "base_uri": "https://localhost:8080/"
        },
        "id": "OO2bIGaNT5N-",
        "outputId": "2c5e1e55-8fff-4aca-a1aa-2b5a54bee7a8"
      },
      "execution_count": null,
      "outputs": [
        {
          "output_type": "stream",
          "name": "stdout",
          "text": [
            "[[0. 0. 0.]\n",
            " [0. 0. 0.]\n",
            " [0. 0. 0.]\n",
            " [0. 0. 0.]\n",
            " [0. 0. 0.]]\n"
          ]
        }
      ]
    },
    {
      "cell_type": "markdown",
      "source": [
        "1.3 ones"
      ],
      "metadata": {
        "id": "RkvWIFIrUC8B"
      }
    },
    {
      "cell_type": "code",
      "source": [
        "# create one array\n",
        "from numpy import ones\n",
        "a = ones([5]) #1 row five column array \n",
        "print(a)"
      ],
      "metadata": {
        "colab": {
          "base_uri": "https://localhost:8080/"
        },
        "id": "KDQmHEEDUHN8",
        "outputId": "89932abb-c9b4-453c-eead-b6d12fcf74e2"
      },
      "execution_count": null,
      "outputs": [
        {
          "output_type": "stream",
          "name": "stdout",
          "text": [
            "[1. 1. 1. 1. 1.]\n"
          ]
        }
      ]
    },
    {
      "cell_type": "markdown",
      "source": [
        "2 combining array"
      ],
      "metadata": {
        "id": "c0izih52Ua4D"
      }
    },
    {
      "cell_type": "markdown",
      "source": [
        "2.1 vertical stack"
      ],
      "metadata": {
        "id": "Oh27vrZZUgdJ"
      }
    },
    {
      "cell_type": "code",
      "source": [
        "# create array with vstack\n",
        "from numpy import array\n",
        "from numpy import vstack\n",
        "# create first array\n",
        "a1 = array([3,4,5,6])\n",
        "print(a1)\n",
        "# create second array\n",
        "a2 = array([4,5,6,7])\n",
        "print(a2)\n",
        "# vertical stack\n",
        "a3 = vstack((a1, a2)) #takes only same dimension array \n",
        "print(a3)\n",
        "print(a3.shape)"
      ],
      "metadata": {
        "colab": {
          "base_uri": "https://localhost:8080/"
        },
        "id": "8ayr7ohAUkpa",
        "outputId": "99e887bb-9beb-4bbd-9b97-51ca6211ae8d"
      },
      "execution_count": null,
      "outputs": [
        {
          "output_type": "stream",
          "name": "stdout",
          "text": [
            "[3 4 5 6]\n",
            "[4 5 6 7]\n",
            "[[3 4 5 6]\n",
            " [4 5 6 7]]\n",
            "(2, 4)\n"
          ]
        }
      ]
    },
    {
      "cell_type": "markdown",
      "source": [
        "2.2 horizontal stack"
      ],
      "metadata": {
        "id": "IKwU0N39Us8f"
      }
    },
    {
      "cell_type": "code",
      "source": [
        "# create array with hstack\n",
        "from numpy import array\n",
        "from numpy import hstack\n",
        "# create first array\n",
        "a1 = array([[3,8,9,1],[1,2,3]]) #cant directly hstack two different shapes\n",
        "print(a1)\n",
        "# create second array\n",
        "a2 = array([[7,5,6,1],[1,5,6]]) # this is depreciated\n",
        "print(a2)\n",
        "# create horizontal stack\n",
        "a3 = hstack((a1, a2)) #this adds columns with each other\n",
        "print(a3)\n",
        "print(a3.shape)"
      ],
      "metadata": {
        "colab": {
          "base_uri": "https://localhost:8080/"
        },
        "id": "9AqVaaxYVAhb",
        "outputId": "f84c9aff-7c35-4c4c-bbfb-baa92ef8db01"
      },
      "execution_count": null,
      "outputs": [
        {
          "output_type": "stream",
          "name": "stdout",
          "text": [
            "[list([3, 8, 9, 1]) list([1, 2, 3])]\n",
            "[list([7, 5, 6, 1]) list([1, 5, 6])]\n",
            "[list([3, 8, 9, 1]) list([1, 2, 3]) list([7, 5, 6, 1]) list([1, 5, 6])]\n",
            "(4,)\n"
          ]
        },
        {
          "output_type": "stream",
          "name": "stderr",
          "text": [
            "<ipython-input-17-bcf585d3b72a>:5: VisibleDeprecationWarning: Creating an ndarray from ragged nested sequences (which is a list-or-tuple of lists-or-tuples-or ndarrays with different lengths or shapes) is deprecated. If you meant to do this, you must specify 'dtype=object' when creating the ndarray.\n",
            "  a1 = array([[3,8,9,1],[1,2,3]])\n",
            "<ipython-input-17-bcf585d3b72a>:8: VisibleDeprecationWarning: Creating an ndarray from ragged nested sequences (which is a list-or-tuple of lists-or-tuples-or ndarrays with different lengths or shapes) is deprecated. If you meant to do this, you must specify 'dtype=object' when creating the ndarray.\n",
            "  a2 = array([[7,5,6,1],[1,5,6]])\n"
          ]
        }
      ]
    },
    {
      "cell_type": "code",
      "source": [
        "# create array with hstack\n",
        "from numpy import array\n",
        "from numpy import hstack\n",
        "# create first array\n",
        "a1 = array([1,2,3])\n",
        "print(a1)\n",
        "# create second array\n",
        "a2 = array([4,5,6])\n",
        "print(a2)\n",
        "# create horizontal stack\n",
        "a3 = hstack((a1, a2)) # this function adds column\n",
        "print(a3)\n",
        "print(a3.shape)"
      ],
      "metadata": {
        "colab": {
          "base_uri": "https://localhost:8080/"
        },
        "id": "cPM1xY63VF6B",
        "outputId": "66b8dc0f-9289-478e-f8ca-d7ac77b8a82b"
      },
      "execution_count": null,
      "outputs": [
        {
          "output_type": "stream",
          "name": "stdout",
          "text": [
            "[1 2 3]\n",
            "[4 5 6]\n",
            "[1 2 3 4 5 6]\n",
            "(6,)\n"
          ]
        }
      ]
    },
    {
      "cell_type": "markdown",
      "source": [
        "#index slice and reshape NUMPY array\n",
        "\n"
      ],
      "metadata": {
        "id": "EgOBx2DMV9FV"
      }
    },
    {
      "cell_type": "markdown",
      "source": [
        "##one dimensional list to array"
      ],
      "metadata": {
        "id": "MgZZkfDxWl7R"
      }
    },
    {
      "cell_type": "code",
      "source": [
        "# create one-dimensional array\n",
        "from numpy import array\n",
        "# list of data\n",
        "data = [11, 22, 33, 44, 55, 66, 77]\n",
        "# array of data\n",
        "data = array(data)\n",
        "print(data)\n",
        "print(type(data))"
      ],
      "metadata": {
        "colab": {
          "base_uri": "https://localhost:8080/"
        },
        "id": "DGMVptr8W6Eq",
        "outputId": "bc255e54-9ef2-4430-db24-90bcb6c9d433"
      },
      "execution_count": null,
      "outputs": [
        {
          "output_type": "stream",
          "name": "stdout",
          "text": [
            "[11 22 33 44 55 66 77]\n",
            "<class 'numpy.ndarray'>\n"
          ]
        }
      ]
    },
    {
      "cell_type": "markdown",
      "source": [
        "## Two-Dimensional List of Lists to Array"
      ],
      "metadata": {
        "id": "kGiilGNXXACe"
      }
    },
    {
      "cell_type": "code",
      "source": [
        "# create two-dimensional array\n",
        "from numpy import array\n",
        "# list of data\n",
        "data = [[11, 22],\n",
        "[33, 44],\n",
        "[55, 66],\n",
        "[77,88]]\n",
        "# array of data\n",
        "data = array(data)\n",
        "print(data)\n",
        "print(type(data))"
      ],
      "metadata": {
        "colab": {
          "base_uri": "https://localhost:8080/"
        },
        "id": "cpmtNeVrXGZl",
        "outputId": "c9564d89-c28a-404c-b9a0-15b758ee2e6f"
      },
      "execution_count": null,
      "outputs": [
        {
          "output_type": "stream",
          "name": "stdout",
          "text": [
            "[[11 22]\n",
            " [33 44]\n",
            " [55 66]\n",
            " [77 88]]\n",
            "<class 'numpy.ndarray'>\n"
          ]
        }
      ]
    },
    {
      "cell_type": "markdown",
      "source": [
        "## array indexing \n",
        "##one dimensional indexing"
      ],
      "metadata": {
        "id": "xOVH4Us0XPlY"
      }
    },
    {
      "cell_type": "code",
      "source": [
        "# index a one-dimensional array\n",
        "from numpy import array\n",
        "# define array\n",
        "data = array([11, 22, 33, 44, 55, 66, 77])\n",
        "# index data \n",
        "print(data[0])\n",
        "print(data[5])"
      ],
      "metadata": {
        "colab": {
          "base_uri": "https://localhost:8080/"
        },
        "id": "SofFFw1gXjMB",
        "outputId": "2ffde6c4-6cea-41d7-85b9-223f4197ce50"
      },
      "execution_count": null,
      "outputs": [
        {
          "output_type": "stream",
          "name": "stdout",
          "text": [
            "11\n",
            "66\n"
          ]
        }
      ]
    },
    {
      "cell_type": "code",
      "source": [
        "# index array out of bounds\n",
        "from numpy import array\n",
        "# define array\n",
        "data = array([11, 22, 33, 44, 55, 66])\n",
        "# index data\n",
        "# print(data[7]) # running this give index error. can try it by  uncommenting the code"
      ],
      "metadata": {
        "colab": {
          "base_uri": "https://localhost:8080/",
          "height": 207
        },
        "id": "mv08B0SkXtjW",
        "outputId": "5e5b2a47-a263-437d-c3fd-fca1f1a7b79c"
      },
      "execution_count": null,
      "outputs": [
        {
          "output_type": "error",
          "ename": "IndexError",
          "evalue": "ignored",
          "traceback": [
            "\u001b[0;31m---------------------------------------------------------------------------\u001b[0m",
            "\u001b[0;31mIndexError\u001b[0m                                Traceback (most recent call last)",
            "\u001b[0;32m<ipython-input-22-bcd6caf5cdde>\u001b[0m in \u001b[0;36m<module>\u001b[0;34m\u001b[0m\n\u001b[1;32m      4\u001b[0m \u001b[0mdata\u001b[0m \u001b[0;34m=\u001b[0m \u001b[0marray\u001b[0m\u001b[0;34m(\u001b[0m\u001b[0;34m[\u001b[0m\u001b[0;36m11\u001b[0m\u001b[0;34m,\u001b[0m \u001b[0;36m22\u001b[0m\u001b[0;34m,\u001b[0m \u001b[0;36m33\u001b[0m\u001b[0;34m,\u001b[0m \u001b[0;36m44\u001b[0m\u001b[0;34m,\u001b[0m \u001b[0;36m55\u001b[0m\u001b[0;34m,\u001b[0m \u001b[0;36m66\u001b[0m\u001b[0;34m]\u001b[0m\u001b[0;34m)\u001b[0m\u001b[0;34m\u001b[0m\u001b[0;34m\u001b[0m\u001b[0m\n\u001b[1;32m      5\u001b[0m \u001b[0;31m# index data\u001b[0m\u001b[0;34m\u001b[0m\u001b[0;34m\u001b[0m\u001b[0;34m\u001b[0m\u001b[0m\n\u001b[0;32m----> 6\u001b[0;31m \u001b[0mprint\u001b[0m\u001b[0;34m(\u001b[0m\u001b[0mdata\u001b[0m\u001b[0;34m[\u001b[0m\u001b[0;36m7\u001b[0m\u001b[0;34m]\u001b[0m\u001b[0;34m)\u001b[0m\u001b[0;34m\u001b[0m\u001b[0;34m\u001b[0m\u001b[0m\n\u001b[0m",
            "\u001b[0;31mIndexError\u001b[0m: index 7 is out of bounds for axis 0 with size 6"
          ]
        }
      ]
    },
    {
      "cell_type": "code",
      "source": [
        "# negative array indexing\n",
        "from numpy import array\n",
        "# define array\n",
        "data = array([11, 22, 33, 44, 55,66])\n",
        "# index data\n",
        "print(data[-2])\n",
        "print(data[-5])"
      ],
      "metadata": {
        "colab": {
          "base_uri": "https://localhost:8080/"
        },
        "id": "zf1Q9mXYXzu9",
        "outputId": "42f22778-c181-4799-e4fe-da479f034619"
      },
      "execution_count": null,
      "outputs": [
        {
          "output_type": "stream",
          "name": "stdout",
          "text": [
            "55\n",
            "22\n"
          ]
        }
      ]
    },
    {
      "cell_type": "markdown",
      "source": [
        "##two dimensional indexing"
      ],
      "metadata": {
        "id": "ywOdynnjYGAu"
      }
    },
    {
      "cell_type": "code",
      "source": [
        "# index two-dimensional array\n",
        "from numpy import array\n",
        "# doing data[0,0] and data [0][0] are two different things\n",
        "data = array([\n",
        "[11, 22],\n",
        "[33, 44],\n",
        "[55, 66]])\n",
        "\n",
        "print(data[0,0])\n",
        "print(data[0],[0]) #it gives two different list 1st row and seperate 0 column"
      ],
      "metadata": {
        "colab": {
          "base_uri": "https://localhost:8080/"
        },
        "id": "q0qIPGB5YKZH",
        "outputId": "0c903009-0789-4dfd-9576-b7f6cd6ed766"
      },
      "execution_count": null,
      "outputs": [
        {
          "output_type": "stream",
          "name": "stdout",
          "text": [
            "11\n",
            "[11 22] [0]\n"
          ]
        }
      ]
    },
    {
      "cell_type": "code",
      "source": [
        "# index row of two-dimensional array\n",
        "from numpy import array\n",
        "# define array\n",
        "data = array([\n",
        "[11, 22],\n",
        "[33, 44],\n",
        "[55, 66]])\n",
        "# index data\n",
        "print(data[0,])"
      ],
      "metadata": {
        "colab": {
          "base_uri": "https://localhost:8080/"
        },
        "id": "3UQvEBG1Y7g8",
        "outputId": "7097d4f0-506e-446d-b1b3-b46fdd9bc756"
      },
      "execution_count": null,
      "outputs": [
        {
          "output_type": "stream",
          "name": "stdout",
          "text": [
            "[11 22]\n"
          ]
        }
      ]
    },
    {
      "cell_type": "markdown",
      "source": [
        "##Array slicing\n",
        "## one dimensional slicing"
      ],
      "metadata": {
        "id": "bDmgonxhZPkf"
      }
    },
    {
      "cell_type": "code",
      "source": [
        "# slice a one-dimensional array\n",
        "from numpy import array\n",
        "# define array\n",
        "data = array([11, 22, 33, 44, 55])\n",
        "print(data[:])"
      ],
      "metadata": {
        "colab": {
          "base_uri": "https://localhost:8080/"
        },
        "id": "NZmX9_x5ZhMQ",
        "outputId": "745f0147-5cc5-4991-b4b7-5b94f94d56ee"
      },
      "execution_count": null,
      "outputs": [
        {
          "output_type": "stream",
          "name": "stdout",
          "text": [
            "[11 22 33 44 55]\n"
          ]
        }
      ]
    },
    {
      "cell_type": "code",
      "source": [
        "# slice a subset of a one-dimensional array\n",
        "from numpy import array\n",
        "# define array\n",
        "data = array([11, 22, 33, 44, 55])\n",
        "print(data[0:1])"
      ],
      "metadata": {
        "colab": {
          "base_uri": "https://localhost:8080/"
        },
        "id": "p2wUlBtEZnbH",
        "outputId": "3f3a81c4-8958-45ca-b482-6210ca45f414"
      },
      "execution_count": null,
      "outputs": [
        {
          "output_type": "stream",
          "name": "stdout",
          "text": [
            "[11]\n"
          ]
        }
      ]
    },
    {
      "cell_type": "code",
      "source": [
        "# negative slicing of a one-dimensional array\n",
        "from numpy import array\n",
        "# define array\n",
        "data = array([11, 22, 33, 44, 55])\n",
        "print(data[-2:])"
      ],
      "metadata": {
        "colab": {
          "base_uri": "https://localhost:8080/"
        },
        "id": "WQ7ZFhlAZqfs",
        "outputId": "8f543016-9e29-41b4-a81f-ad7d6b6e94f6"
      },
      "execution_count": null,
      "outputs": [
        {
          "output_type": "stream",
          "name": "stdout",
          "text": [
            "[44 55]\n"
          ]
        }
      ]
    },
    {
      "cell_type": "markdown",
      "source": [
        "##Two-Dimensional Slicing"
      ],
      "metadata": {
        "id": "XzMTNQlBZu49"
      }
    },
    {
      "cell_type": "code",
      "source": [
        "# split input and output data\n",
        "from numpy import array\n",
        "# define array\n",
        "data = array([\n",
        "[11, 22, 33],\n",
        "[44, 55, 66],\n",
        "[77, 88, 99]])\n",
        "# separate data\n",
        "X, y = data[:, :-1], data[:, -1]\n",
        "print(X)\n",
        "print(y)"
      ],
      "metadata": {
        "colab": {
          "base_uri": "https://localhost:8080/"
        },
        "id": "_pbUgnH3Z02g",
        "outputId": "c8b6b32b-b2d6-464b-ec2e-2a757bd42e84"
      },
      "execution_count": null,
      "outputs": [
        {
          "output_type": "stream",
          "name": "stdout",
          "text": [
            "[[11 22]\n",
            " [44 55]\n",
            " [77 88]]\n",
            "[33 66 99]\n"
          ]
        }
      ]
    },
    {
      "cell_type": "code",
      "source": [],
      "metadata": {
        "id": "x6dpQTXDaBdY"
      },
      "execution_count": null,
      "outputs": []
    }
  ]
}